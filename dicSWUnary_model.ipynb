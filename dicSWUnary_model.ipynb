{
  "nbformat": 4,
  "nbformat_minor": 0,
  "metadata": {
    "colab": {
      "name": "dicSWUnary_model.ipynb",
      "provenance": [],
      "collapsed_sections": [],
      "machine_shape": "hm"
    },
    "kernelspec": {
      "name": "python3",
      "display_name": "Python 3"
    },
    "language_info": {
      "name": "python"
    },
    "accelerator": "TPU"
  },
  "cells": [
    {
      "cell_type": "code",
      "source": [
        "ls"
      ],
      "metadata": {
        "colab": {
          "base_uri": "https://localhost:8080/"
        },
        "id": "5BgxlIYAvLyw",
        "outputId": "dfee3fb6-dd2b-4cd8-d4e9-66b6611477d2"
      },
      "execution_count": 4,
      "outputs": [
        {
          "output_type": "stream",
          "name": "stdout",
          "text": [
            "\u001b[0m\u001b[01;34mgdrive\u001b[0m/  \u001b[01;34msample_data\u001b[0m/\n"
          ]
        }
      ]
    },
    {
      "cell_type": "code",
      "source": [
        "from google.colab import drive\n",
        "drive.mount('/content/gdrive')"
      ],
      "metadata": {
        "colab": {
          "base_uri": "https://localhost:8080/"
        },
        "id": "AXx7Xbbgnin_",
        "outputId": "146cc3c3-574f-4894-f88f-dd6daf305c52"
      },
      "execution_count": 3,
      "outputs": [
        {
          "output_type": "stream",
          "name": "stdout",
          "text": [
            "Mounted at /content/gdrive\n"
          ]
        }
      ]
    },
    {
      "cell_type": "code",
      "source": [
        "import os, re, glob\n",
        "import cv2\n",
        "import numpy as np\n",
        "from sklearn.model_selection import train_test_split\n",
        "from PIL import Image\n",
        "\n",
        "\n",
        "groups_folder_path = \"/content/gdrive/MyDrive/image set\"\n",
        "categories = [\"front_logo\", \"gs25\", \"gusia\", \"insa_kiosk\", \"job\", \"lib_kiosk\", \"lib_science\", \"post_office\"]\n",
        "nb_classes = len(categories)\n",
        "\n",
        "image_w = 64\n",
        "image_h = 64\n",
        "\n",
        "pixels = image_h * image_w * 3\n",
        "\n",
        "\n",
        "\n",
        "X = []\n",
        "y = []\n",
        "\n",
        "for idx, category in enumerate(categories):\n",
        "    \n",
        "    #one-hot 돌리기.\n",
        "    label = [0 for i in range(nb_classes)]\n",
        "    label[idx] = 1\n",
        "\n",
        "    image_dir = groups_folder_path + \"/\" + category\n",
        "    files = glob.glob(image_dir+\"/*.jpeg\")\n",
        "    print(category, \" 파일 길이 : \", len(files))\n",
        "    for i, f in enumerate(files):\n",
        "        img = Image.open(f)\n",
        "        img = img.convert(\"RGB\")\n",
        "        img = img.resize((image_w, image_h))\n",
        "        data = np.asarray(img)\n",
        "\n",
        "        X.append(data)\n",
        "        y.append(label)\n",
        "\n",
        "        if i % 27 == 0:\n",
        "            print(category, \" : \", f)\n",
        "\n"
      ],
      "metadata": {
        "colab": {
          "base_uri": "https://localhost:8080/"
        },
        "id": "o1OO1sSaDrwJ",
        "outputId": "5d1812ac-33df-4288-8f11-949c8882a6ce"
      },
      "execution_count": 128,
      "outputs": [
        {
          "output_type": "stream",
          "name": "stdout",
          "text": [
            "front_logo  파일 길이 :  34\n",
            "front_logo  :  /content/gdrive/MyDrive/image set/front_logo/IMG_5034.jpeg\n",
            "front_logo  :  /content/gdrive/MyDrive/image set/front_logo/IMG_5058.jpeg\n",
            "gs25  파일 길이 :  47\n",
            "gs25  :  /content/gdrive/MyDrive/image set/gs25/IMG_5099.jpeg\n",
            "gs25  :  /content/gdrive/MyDrive/image set/gs25/IMG_5125.jpeg\n",
            "gusia  파일 길이 :  36\n",
            "gusia  :  /content/gdrive/MyDrive/image set/gusia/IMG_5239.jpeg\n",
            "gusia  :  /content/gdrive/MyDrive/image set/gusia/IMG_5262.jpeg\n",
            "insa_kiosk  파일 길이 :  28\n",
            "insa_kiosk  :  /content/gdrive/MyDrive/image set/insa_kiosk/IMG_5096.jpeg\n",
            "insa_kiosk  :  /content/gdrive/MyDrive/image set/insa_kiosk/IMG_5095.jpeg\n",
            "job  파일 길이 :  40\n",
            "job  :  /content/gdrive/MyDrive/image set/job/IMG_5317.jpeg\n",
            "job  :  /content/gdrive/MyDrive/image set/job/IMG_5347.jpeg\n",
            "lib_kiosk  파일 길이 :  40\n",
            "lib_kiosk  :  /content/gdrive/MyDrive/image set/lib_kiosk/IMG_5198.jpeg\n",
            "lib_kiosk  :  /content/gdrive/MyDrive/image set/lib_kiosk/IMG_5217.jpeg\n",
            "lib_science  파일 길이 :  46\n",
            "lib_science  :  /content/gdrive/MyDrive/image set/lib_science/IMG_5149.jpeg\n",
            "lib_science  :  /content/gdrive/MyDrive/image set/lib_science/IMG_5178.jpeg\n",
            "post_office  파일 길이 :  47\n",
            "post_office  :  /content/gdrive/MyDrive/image set/post_office/IMG_5274.jpeg\n",
            "post_office  :  /content/gdrive/MyDrive/image set/post_office/IMG_5300.jpeg\n"
          ]
        }
      ]
    },
    {
      "cell_type": "code",
      "source": [
        ""
      ],
      "metadata": {
        "id": "q-y-8p-_R0w6"
      },
      "execution_count": 128,
      "outputs": []
    },
    {
      "cell_type": "code",
      "source": [
        "import numpy as np\n",
        "X = np.array(X)\n",
        "print(\"x done\")\n",
        "y = np.array(y)\n",
        "#1 0 0 0 이면 airplanes\n",
        "#0 1 0 0 이면 buddha 이런식\n",
        "\n",
        "X_train, X_test, y_train, y_test = train_test_split(X, y)\n",
        "xy = (X_train, X_test, y_train, y_test)\n",
        "np.save(\"./img_data.npy\", xy)\n",
        "\n",
        "print(\"ok\", len(y))\n"
      ],
      "metadata": {
        "id": "S0dyXHNw9abo",
        "colab": {
          "base_uri": "https://localhost:8080/"
        },
        "outputId": "0f4d0a3f-6e93-424c-878f-e466de83d37f"
      },
      "execution_count": 129,
      "outputs": [
        {
          "output_type": "stream",
          "name": "stdout",
          "text": [
            "x done\n",
            "ok 318\n"
          ]
        },
        {
          "output_type": "stream",
          "name": "stderr",
          "text": [
            "/usr/local/lib/python3.7/dist-packages/numpy/lib/npyio.py:528: VisibleDeprecationWarning: Creating an ndarray from ragged nested sequences (which is a list-or-tuple of lists-or-tuples-or ndarrays with different lengths or shapes) is deprecated. If you meant to do this, you must specify 'dtype=object' when creating the ndarray.\n",
            "  arr = np.asanyarray(arr)\n"
          ]
        }
      ]
    },
    {
      "cell_type": "code",
      "source": [
        "import os, glob, numpy as np\n",
        "from keras.models import Sequential\n",
        "from keras.layers import Conv2D, MaxPooling2D, Dense, Flatten, Dropout\n",
        "from tensorflow.keras.callbacks import EarlyStopping, ModelCheckpoint\n",
        "import matplotlib.pyplot as plt\n",
        "#import keras.backend.tensorflow_backend as K\n",
        "\n",
        "import tensorflow as tf\n",
        "config = tf.compat.v1.ConfigProto()\n",
        "config.gpu_options.allow_growth = True\n",
        "#session = tf.Session(config=config)\n",
        "\n",
        "X_train, X_test, y_train, y_test = np.load('./img_data.npy',allow_pickle=True)\n",
        "print(X_train.shape)\n",
        "print(X_train.shape[0])"
      ],
      "metadata": {
        "colab": {
          "base_uri": "https://localhost:8080/"
        },
        "id": "mR8TD0HgFW7J",
        "outputId": "24c8db5c-1859-46c8-dffd-d5df1e5a9b4b"
      },
      "execution_count": 130,
      "outputs": [
        {
          "output_type": "stream",
          "name": "stdout",
          "text": [
            "(238, 64, 64, 3)\n",
            "238\n"
          ]
        }
      ]
    },
    {
      "cell_type": "code",
      "source": [
        "import numpy as np\n",
        "import tensorflow as tf\n",
        "import matplotlib.pyplot as plt\n",
        "from keras.models import Sequential\n",
        "from keras.layers import Dropout, Activation, Dense\n",
        "from keras.layers import Flatten, Convolution2D, MaxPooling2D\n",
        "from keras.models import load_model\n",
        "import cv2\n",
        "from tensorflow.keras.optimizers import Adam\n",
        "#from keras.optimizers import Adam\n",
        "from keras.preprocessing.image import ImageDataGenerator\n",
        "\n",
        "X_train, X_test, y_train, y_test = np.load('./img_data.npy',allow_pickle=True)\n",
        "\n",
        "model = Sequential()\n",
        "model.add(Conv2D(32, (3,3), padding=\"same\", input_shape=X_train.shape[1:], activation='relu'))\n",
        "model.add(MaxPooling2D(pool_size=(2,2)))\n",
        "model.add(Dropout(0.25))\n",
        "\n",
        "model.add(Conv2D(64, (3,3), padding=\"same\", activation='relu'))\n",
        "model.add(MaxPooling2D(pool_size=(2,2)))\n",
        "model.add(Dropout(0.25))\n",
        "\n",
        "model.add(Flatten())\n",
        "model.add(Dense(256, activation='relu'))\n",
        "model.add(Dropout(0.5))\n",
        "model.add(Dense(8, activation='softmax'))\n",
        "model.compile(loss='categorical_crossentropy', optimizer='adam', metrics=['accuracy'])\n",
        "model_dir = './model'\n",
        "\n",
        "if not os.path.exists(model_dir):\n",
        "    os.mkdir(model_dir)\n",
        "\n",
        "model_path = model_dir + '/multi_img_classification.model'\n",
        "checkpoint = ModelCheckpoint(filepath=model_path , monitor='val_loss', verbose=1, save_best_only=True)\n",
        "early_stopping = EarlyStopping(monitor='val_loss', patience=6)"
      ],
      "metadata": {
        "id": "qLSlRDQSWFqc"
      },
      "execution_count": 131,
      "outputs": []
    },
    {
      "cell_type": "code",
      "source": [
        "model.summary()"
      ],
      "metadata": {
        "colab": {
          "base_uri": "https://localhost:8080/"
        },
        "id": "HQbEGKNJWaAR",
        "outputId": "2a02580d-b0ae-4b9d-beb0-420a42d169b2"
      },
      "execution_count": 132,
      "outputs": [
        {
          "output_type": "stream",
          "name": "stdout",
          "text": [
            "Model: \"sequential_63\"\n",
            "_________________________________________________________________\n",
            " Layer (type)                Output Shape              Param #   \n",
            "=================================================================\n",
            " conv2d_166 (Conv2D)         (None, 64, 64, 32)        896       \n",
            "                                                                 \n",
            " max_pooling2d_95 (MaxPoolin  (None, 32, 32, 32)       0         \n",
            " g2D)                                                            \n",
            "                                                                 \n",
            " dropout_132 (Dropout)       (None, 32, 32, 32)        0         \n",
            "                                                                 \n",
            " conv2d_167 (Conv2D)         (None, 32, 32, 64)        18496     \n",
            "                                                                 \n",
            " max_pooling2d_96 (MaxPoolin  (None, 16, 16, 64)       0         \n",
            " g2D)                                                            \n",
            "                                                                 \n",
            " dropout_133 (Dropout)       (None, 16, 16, 64)        0         \n",
            "                                                                 \n",
            " flatten_45 (Flatten)        (None, 16384)             0         \n",
            "                                                                 \n",
            " dense_95 (Dense)            (None, 256)               4194560   \n",
            "                                                                 \n",
            " dropout_134 (Dropout)       (None, 256)               0         \n",
            "                                                                 \n",
            " dense_96 (Dense)            (None, 8)                 2056      \n",
            "                                                                 \n",
            "=================================================================\n",
            "Total params: 4,216,008\n",
            "Trainable params: 4,216,008\n",
            "Non-trainable params: 0\n",
            "_________________________________________________________________\n"
          ]
        }
      ]
    },
    {
      "cell_type": "code",
      "source": [
        "history = model.fit(X_train, y_train, batch_size=32, epochs=30, validation_data=(X_test, y_test), callbacks=[checkpoint, early_stopping])"
      ],
      "metadata": {
        "colab": {
          "base_uri": "https://localhost:8080/"
        },
        "id": "l8eKORKJWmFz",
        "outputId": "45ca9abd-39db-4557-e98e-e9b0897481be"
      },
      "execution_count": 137,
      "outputs": [
        {
          "output_type": "stream",
          "name": "stdout",
          "text": [
            "Epoch 1/30\n",
            "7/8 [=========================>....] - ETA: 0s - loss: 0.0341 - accuracy: 0.9911\n",
            "Epoch 1: val_loss did not improve from 0.23384\n",
            "8/8 [==============================] - 1s 71ms/step - loss: 0.0397 - accuracy: 0.9874 - val_loss: 0.3135 - val_accuracy: 0.9250\n",
            "Epoch 2/30\n",
            "7/8 [=========================>....] - ETA: 0s - loss: 0.1636 - accuracy: 0.9598\n",
            "Epoch 2: val_loss did not improve from 0.23384\n",
            "8/8 [==============================] - 0s 44ms/step - loss: 0.1555 - accuracy: 0.9622 - val_loss: 0.5239 - val_accuracy: 0.9500\n",
            "Epoch 3/30\n",
            "7/8 [=========================>....] - ETA: 0s - loss: 0.1413 - accuracy: 0.9509\n",
            "Epoch 3: val_loss did not improve from 0.23384\n",
            "8/8 [==============================] - 0s 44ms/step - loss: 0.1505 - accuracy: 0.9496 - val_loss: 0.5178 - val_accuracy: 0.9125\n",
            "Epoch 4/30\n",
            "7/8 [=========================>....] - ETA: 0s - loss: 0.0313 - accuracy: 0.9821\n",
            "Epoch 4: val_loss improved from 0.23384 to 0.22478, saving model to ./model/multi_img_classification.model\n",
            "INFO:tensorflow:Assets written to: ./model/multi_img_classification.model/assets\n",
            "8/8 [==============================] - 2s 234ms/step - loss: 0.0295 - accuracy: 0.9832 - val_loss: 0.2248 - val_accuracy: 0.9750\n",
            "Epoch 5/30\n",
            "7/8 [=========================>....] - ETA: 0s - loss: 0.0018 - accuracy: 1.0000\n",
            "Epoch 5: val_loss did not improve from 0.22478\n",
            "8/8 [==============================] - 0s 43ms/step - loss: 0.0017 - accuracy: 1.0000 - val_loss: 0.2922 - val_accuracy: 0.9625\n",
            "Epoch 6/30\n",
            "7/8 [=========================>....] - ETA: 0s - loss: 0.1165 - accuracy: 0.9777\n",
            "Epoch 6: val_loss did not improve from 0.22478\n",
            "8/8 [==============================] - 0s 43ms/step - loss: 0.1097 - accuracy: 0.9790 - val_loss: 0.5428 - val_accuracy: 0.8500\n",
            "Epoch 7/30\n",
            "7/8 [=========================>....] - ETA: 0s - loss: 0.0564 - accuracy: 0.9911\n",
            "Epoch 7: val_loss did not improve from 0.22478\n",
            "8/8 [==============================] - 0s 44ms/step - loss: 0.0531 - accuracy: 0.9916 - val_loss: 0.2850 - val_accuracy: 0.9625\n",
            "Epoch 8/30\n",
            "7/8 [=========================>....] - ETA: 0s - loss: 0.0446 - accuracy: 0.9821\n",
            "Epoch 8: val_loss did not improve from 0.22478\n",
            "8/8 [==============================] - 0s 44ms/step - loss: 0.0427 - accuracy: 0.9832 - val_loss: 0.4815 - val_accuracy: 0.9375\n",
            "Epoch 9/30\n",
            "7/8 [=========================>....] - ETA: 0s - loss: 0.0189 - accuracy: 0.9911\n",
            "Epoch 9: val_loss did not improve from 0.22478\n",
            "8/8 [==============================] - 0s 43ms/step - loss: 0.0178 - accuracy: 0.9916 - val_loss: 0.3778 - val_accuracy: 0.9375\n",
            "Epoch 10/30\n",
            "7/8 [=========================>....] - ETA: 0s - loss: 0.0133 - accuracy: 0.9911\n",
            "Epoch 10: val_loss did not improve from 0.22478\n",
            "8/8 [==============================] - 0s 44ms/step - loss: 0.0125 - accuracy: 0.9916 - val_loss: 0.2740 - val_accuracy: 0.9750\n"
          ]
        }
      ]
    },
    {
      "cell_type": "code",
      "source": [
        "model.save('dicswunary.h5')"
      ],
      "metadata": {
        "id": "96hkyU-WedLL"
      },
      "execution_count": 140,
      "outputs": []
    },
    {
      "cell_type": "code",
      "source": [
        "print(\"정확도 : %.4f\" % (model.evaluate(X_test, y_test)[1]))"
      ],
      "metadata": {
        "colab": {
          "base_uri": "https://localhost:8080/"
        },
        "id": "4Skx49FsW0vg",
        "outputId": "14a28853-7216-4336-b766-73670d7e692c"
      },
      "execution_count": 138,
      "outputs": [
        {
          "output_type": "stream",
          "name": "stdout",
          "text": [
            "3/3 [==============================] - 0s 10ms/step - loss: 0.2740 - accuracy: 0.9750\n",
            "정확도 : 0.9750\n"
          ]
        }
      ]
    },
    {
      "cell_type": "code",
      "source": [
        "from PIL import Image\n",
        "import os, glob, numpy as np\n",
        "from keras.models import load_model\n",
        "\n",
        "caltech_dir = \"./guide/\"\n",
        "image_w = 64\n",
        "image_h = 64\n",
        "\n",
        "pixels = image_h * image_w * 3\n",
        "\n",
        "X = []\n",
        "filenames = []\n",
        "files = glob.glob(caltech_dir+\"/*.*\")\n",
        "for i, f in enumerate(files):\n",
        "    img = Image.open(f)\n",
        "    img = img.convert(\"RGB\")\n",
        "    img = img.resize((image_w, image_h))\n",
        "    data = np.asarray(img)\n",
        "    filenames.append(f)\n",
        "    X.append(data)\n",
        "\n",
        "X = np.array(X)\n",
        "model = load_model('./model/multi_img_classification.model')\n",
        "\n",
        "prediction = model.predict(X)\n",
        "np.set_printoptions(formatter={'float': lambda x: \"{0:0.3f}\".format(x)})\n",
        "cnt = 0\n",
        "\n",
        "#이 비교는 그냥 파일들이 있으면 해당 파일과 비교. 카테고리와 함께 비교해서 진행하는 것은 _4 파일.\n",
        "for i in prediction:\n",
        "    pre_ans = i.argmax()  # 예측 레이블\n",
        "    print(i)\n",
        "    # print(pre_ans)\n",
        "    pre_ans_str = ''\n",
        "    category = [\"front_logo\", \"gs25\", \"gusia\", \"insa_kiosk\", \"job\", \"lib_kiosk\", \"lib_science\", \"post_office\"]\n",
        "    if pre_ans == 0: pre_ans_str = category[0]\n",
        "    elif pre_ans == 1: pre_ans_str = category[1]\n",
        "    elif pre_ans == 2: pre_ans_str = category[2]\n",
        "    elif pre_ans == 3: pre_ans_str = category[3]\n",
        "    elif pre_ans == 4: pre_ans_str = category[4]\n",
        "    elif pre_ans == 5: pre_ans_str = category[5]\n",
        "    elif pre_ans == 6: pre_ans_str = category[6]\n",
        "    else : pre_ans_str = category[7]\n",
        "\n",
        "    \n",
        "    if i[0] >= 0.8: print(\"해당 \"+filenames[cnt]+\"이미지는 \"+pre_ans_str+\"로 추정됩니다.\")\n",
        "    if i[1] >= 0.8: print(\"해당 \"+filenames[cnt]+\"이미지는 \"+pre_ans_str+\"으로 추정됩니다.\")\n",
        "    if i[2] >= 0.8: print(\"해당 \"+filenames[cnt]+\"이미지는 \"+pre_ans_str+\"로 추정됩니다.\")\n",
        "    if i[3] >= 0.8: print(\"해당 \"+filenames[cnt]+\"이미지는 \"+pre_ans_str+\"로 추정됩니다.\")\n",
        "    if i[4] >= 0.8: print(\"해당 \"+filenames[cnt]+\"이미지는 \"+pre_ans_str+\"로 추정됩니다.\")\n",
        "    if i[5] >= 0.7: print(\"해당 \"+filenames[cnt]+\"이미지는 \"+pre_ans_str+\"로 추정됩니다.\")\n",
        "    if i[6] >= 0.8: print(\"해당 \"+filenames[cnt]+\"이미지는 \"+pre_ans_str+\"로 추정됩니다.\")\n",
        "    if i[7] >= 0.7: print(\"해당 \"+filenames[cnt]+\"이미지는 \"+pre_ans_str+\"로 추정됩니다.\")\n",
        "    \n",
        "    cnt += 1"
      ],
      "metadata": {
        "colab": {
          "base_uri": "https://localhost:8080/"
        },
        "id": "R6bEmOcFW71a",
        "outputId": "542348f6-f9dd-484b-ff3b-45d9fa6ab611"
      },
      "execution_count": 139,
      "outputs": [
        {
          "output_type": "stream",
          "name": "stdout",
          "text": [
            "[0.000 0.000 0.001 0.000 0.002 0.000 0.000 0.997]\n",
            "해당 ./guide/IMG_5298.jpeg이미지는 post_office로 추정됩니다.\n",
            "[0.995 0.000 0.003 0.002 0.000 0.000 0.000 0.000]\n",
            "해당 ./guide/IMG_5047.jpeg이미지는 front_logo로 추정됩니다.\n",
            "[0.000 1.000 0.000 0.000 0.000 0.000 0.000 0.000]\n",
            "해당 ./guide/IMG_5101.jpeg이미지는 gs25으로 추정됩니다.\n",
            "[0.000 0.000 0.000 0.033 0.938 0.001 0.000 0.029]\n",
            "해당 ./guide/IMG_5650.jpeg이미지는 job로 추정됩니다.\n",
            "[0.000 0.000 0.000 0.000 0.000 0.000 1.000 0.000]\n",
            "해당 ./guide/IMG_5188.jpeg이미지는 lib_science로 추정됩니다.\n",
            "[0.000 1.000 0.000 0.000 0.000 0.000 0.000 0.000]\n",
            "해당 ./guide/IMG_5099.jpeg이미지는 gs25으로 추정됩니다.\n",
            "[0.000 0.000 0.000 0.000 1.000 0.000 0.000 0.000]\n",
            "해당 ./guide/IMG_5340.jpeg이미지는 job로 추정됩니다.\n",
            "[0.000 0.000 0.000 1.000 0.000 0.000 0.000 0.000]\n",
            "해당 ./guide/IMG_5654.jpeg이미지는 insa_kiosk로 추정됩니다.\n",
            "[0.126 0.124 0.128 0.117 0.119 0.130 0.123 0.134]\n",
            "[0.000 0.000 1.000 0.000 0.000 0.000 0.000 0.000]\n",
            "해당 ./guide/IMG_5252.jpeg이미지는 gusia로 추정됩니다.\n"
          ]
        }
      ]
    },
    {
      "cell_type": "code",
      "source": [
        "i"
      ],
      "metadata": {
        "colab": {
          "base_uri": "https://localhost:8080/"
        },
        "id": "ijOeeWK4ZT95",
        "outputId": "c5f3e7fa-3674-49fe-e193-f38846246d3b"
      },
      "execution_count": 136,
      "outputs": [
        {
          "output_type": "execute_result",
          "data": {
            "text/plain": [
              "array([0.005, 0.008, 0.736, 0.005, 0.214, 0.014, 0.010, 0.010],\n",
              "      dtype=float32)"
            ]
          },
          "metadata": {},
          "execution_count": 136
        }
      ]
    },
    {
      "cell_type": "code",
      "source": [
        "prediction"
      ],
      "metadata": {
        "colab": {
          "base_uri": "https://localhost:8080/"
        },
        "id": "_v8lmXMJYXLd",
        "outputId": "c4c18b50-8948-441c-94b9-114fbf844e2c"
      },
      "execution_count": 102,
      "outputs": [
        {
          "output_type": "execute_result",
          "data": {
            "text/plain": [
              "array([[0.000, 1.000, 0.000, 0.000, 0.000, 0.000, 0.000, 0.000],\n",
              "       [0.000, 0.000, 0.000, 0.002, 0.006, 0.989, 0.003, 0.000],\n",
              "       [0.000, 1.000, 0.000, 0.000, 0.000, 0.000, 0.000, 0.000],\n",
              "       [0.018, 0.001, 0.000, 0.000, 0.240, 0.741, 0.000, 0.000],\n",
              "       [0.000, 0.000, 0.000, 1.000, 0.000, 0.000, 0.000, 0.000],\n",
              "       [0.515, 0.036, 0.100, 0.028, 0.042, 0.063, 0.108, 0.107],\n",
              "       [0.383, 0.107, 0.000, 0.000, 0.003, 0.095, 0.012, 0.399]],\n",
              "      dtype=float32)"
            ]
          },
          "metadata": {},
          "execution_count": 102
        }
      ]
    },
    {
      "cell_type": "code",
      "source": [
        ""
      ],
      "metadata": {
        "colab": {
          "base_uri": "https://localhost:8080/"
        },
        "id": "jNpY4LRNJx3Y",
        "outputId": "edc7a50b-8975-472f-c9cb-c403c7c1096e"
      },
      "execution_count": 89,
      "outputs": [
        {
          "output_type": "stream",
          "name": "stdout",
          "text": [
            "Epoch 1/20\n",
            "15/15 [==============================] - 1s 41ms/step - loss: 74.1381 - accuracy: 0.3403\n",
            "Epoch 2/20\n",
            "15/15 [==============================] - 1s 40ms/step - loss: 0.1880 - accuracy: 0.9412\n",
            "Epoch 3/20\n",
            "15/15 [==============================] - 1s 41ms/step - loss: 0.0330 - accuracy: 0.9874\n",
            "Epoch 4/20\n",
            "15/15 [==============================] - 1s 42ms/step - loss: 0.0147 - accuracy: 0.9958\n",
            "Epoch 5/20\n",
            "15/15 [==============================] - 1s 44ms/step - loss: 0.0209 - accuracy: 0.9958\n",
            "Epoch 6/20\n",
            "15/15 [==============================] - 1s 43ms/step - loss: 0.0070 - accuracy: 0.9958\n",
            "Epoch 7/20\n",
            "15/15 [==============================] - 1s 45ms/step - loss: 0.0140 - accuracy: 0.9958\n",
            "Epoch 8/20\n",
            "15/15 [==============================] - 1s 41ms/step - loss: 0.0140 - accuracy: 1.0000\n",
            "Epoch 9/20\n",
            "15/15 [==============================] - 1s 41ms/step - loss: 0.0048 - accuracy: 1.0000\n",
            "Epoch 10/20\n",
            "15/15 [==============================] - 1s 41ms/step - loss: 0.0217 - accuracy: 1.0000\n",
            "Epoch 11/20\n",
            "15/15 [==============================] - 1s 42ms/step - loss: 0.0161 - accuracy: 1.0000\n",
            "Epoch 12/20\n",
            "15/15 [==============================] - 1s 41ms/step - loss: 0.0142 - accuracy: 1.0000\n",
            "Epoch 13/20\n",
            "15/15 [==============================] - 1s 41ms/step - loss: 0.0118 - accuracy: 1.0000\n",
            "Epoch 14/20\n",
            "15/15 [==============================] - 1s 42ms/step - loss: 0.0119 - accuracy: 1.0000\n",
            "Epoch 15/20\n",
            "15/15 [==============================] - 1s 42ms/step - loss: 0.0299 - accuracy: 0.9916\n",
            "Epoch 16/20\n",
            "15/15 [==============================] - 1s 43ms/step - loss: 0.0058 - accuracy: 1.0000\n",
            "Epoch 17/20\n",
            "15/15 [==============================] - 1s 42ms/step - loss: 0.0124 - accuracy: 1.0000\n",
            "Epoch 18/20\n",
            "15/15 [==============================] - 1s 42ms/step - loss: 0.0052 - accuracy: 1.0000\n",
            "Epoch 19/20\n",
            "15/15 [==============================] - 1s 41ms/step - loss: 0.0049 - accuracy: 0.9958\n",
            "Epoch 20/20\n",
            "15/15 [==============================] - 1s 41ms/step - loss: 0.0044 - accuracy: 1.0000\n",
            "정확률은 97.50000238418579\n"
          ]
        }
      ]
    },
    {
      "cell_type": "code",
      "source": [
        "pip install coremltools"
      ],
      "metadata": {
        "id": "IhYyJfFtw-Y0",
        "outputId": "65e2db81-20e0-4f71-849d-5a1f66582844",
        "colab": {
          "base_uri": "https://localhost:8080/"
        }
      },
      "execution_count": 142,
      "outputs": [
        {
          "output_type": "stream",
          "name": "stdout",
          "text": [
            "Collecting coremltools\n",
            "  Downloading coremltools-5.2.0-cp37-none-manylinux1_x86_64.whl (1.6 MB)\n",
            "\u001b[?25l\r\u001b[K     |▏                               | 10 kB 26.6 MB/s eta 0:00:01\r\u001b[K     |▍                               | 20 kB 24.4 MB/s eta 0:00:01\r\u001b[K     |▋                               | 30 kB 11.3 MB/s eta 0:00:01\r\u001b[K     |▉                               | 40 kB 8.9 MB/s eta 0:00:01\r\u001b[K     |█                               | 51 kB 4.7 MB/s eta 0:00:01\r\u001b[K     |█▎                              | 61 kB 5.6 MB/s eta 0:00:01\r\u001b[K     |█▌                              | 71 kB 5.6 MB/s eta 0:00:01\r\u001b[K     |█▊                              | 81 kB 5.6 MB/s eta 0:00:01\r\u001b[K     |█▉                              | 92 kB 6.3 MB/s eta 0:00:01\r\u001b[K     |██                              | 102 kB 5.4 MB/s eta 0:00:01\r\u001b[K     |██▎                             | 112 kB 5.4 MB/s eta 0:00:01\r\u001b[K     |██▌                             | 122 kB 5.4 MB/s eta 0:00:01\r\u001b[K     |██▊                             | 133 kB 5.4 MB/s eta 0:00:01\r\u001b[K     |███                             | 143 kB 5.4 MB/s eta 0:00:01\r\u001b[K     |███▏                            | 153 kB 5.4 MB/s eta 0:00:01\r\u001b[K     |███▍                            | 163 kB 5.4 MB/s eta 0:00:01\r\u001b[K     |███▌                            | 174 kB 5.4 MB/s eta 0:00:01\r\u001b[K     |███▊                            | 184 kB 5.4 MB/s eta 0:00:01\r\u001b[K     |████                            | 194 kB 5.4 MB/s eta 0:00:01\r\u001b[K     |████▏                           | 204 kB 5.4 MB/s eta 0:00:01\r\u001b[K     |████▍                           | 215 kB 5.4 MB/s eta 0:00:01\r\u001b[K     |████▋                           | 225 kB 5.4 MB/s eta 0:00:01\r\u001b[K     |████▉                           | 235 kB 5.4 MB/s eta 0:00:01\r\u001b[K     |█████                           | 245 kB 5.4 MB/s eta 0:00:01\r\u001b[K     |█████▎                          | 256 kB 5.4 MB/s eta 0:00:01\r\u001b[K     |█████▍                          | 266 kB 5.4 MB/s eta 0:00:01\r\u001b[K     |█████▋                          | 276 kB 5.4 MB/s eta 0:00:01\r\u001b[K     |█████▉                          | 286 kB 5.4 MB/s eta 0:00:01\r\u001b[K     |██████                          | 296 kB 5.4 MB/s eta 0:00:01\r\u001b[K     |██████▎                         | 307 kB 5.4 MB/s eta 0:00:01\r\u001b[K     |██████▌                         | 317 kB 5.4 MB/s eta 0:00:01\r\u001b[K     |██████▊                         | 327 kB 5.4 MB/s eta 0:00:01\r\u001b[K     |███████                         | 337 kB 5.4 MB/s eta 0:00:01\r\u001b[K     |███████                         | 348 kB 5.4 MB/s eta 0:00:01\r\u001b[K     |███████▎                        | 358 kB 5.4 MB/s eta 0:00:01\r\u001b[K     |███████▌                        | 368 kB 5.4 MB/s eta 0:00:01\r\u001b[K     |███████▊                        | 378 kB 5.4 MB/s eta 0:00:01\r\u001b[K     |████████                        | 389 kB 5.4 MB/s eta 0:00:01\r\u001b[K     |████████▏                       | 399 kB 5.4 MB/s eta 0:00:01\r\u001b[K     |████████▍                       | 409 kB 5.4 MB/s eta 0:00:01\r\u001b[K     |████████▋                       | 419 kB 5.4 MB/s eta 0:00:01\r\u001b[K     |████████▊                       | 430 kB 5.4 MB/s eta 0:00:01\r\u001b[K     |█████████                       | 440 kB 5.4 MB/s eta 0:00:01\r\u001b[K     |█████████▏                      | 450 kB 5.4 MB/s eta 0:00:01\r\u001b[K     |█████████▍                      | 460 kB 5.4 MB/s eta 0:00:01\r\u001b[K     |█████████▋                      | 471 kB 5.4 MB/s eta 0:00:01\r\u001b[K     |█████████▉                      | 481 kB 5.4 MB/s eta 0:00:01\r\u001b[K     |██████████                      | 491 kB 5.4 MB/s eta 0:00:01\r\u001b[K     |██████████▎                     | 501 kB 5.4 MB/s eta 0:00:01\r\u001b[K     |██████████▌                     | 512 kB 5.4 MB/s eta 0:00:01\r\u001b[K     |██████████▋                     | 522 kB 5.4 MB/s eta 0:00:01\r\u001b[K     |██████████▉                     | 532 kB 5.4 MB/s eta 0:00:01\r\u001b[K     |███████████                     | 542 kB 5.4 MB/s eta 0:00:01\r\u001b[K     |███████████▎                    | 552 kB 5.4 MB/s eta 0:00:01\r\u001b[K     |███████████▌                    | 563 kB 5.4 MB/s eta 0:00:01\r\u001b[K     |███████████▊                    | 573 kB 5.4 MB/s eta 0:00:01\r\u001b[K     |████████████                    | 583 kB 5.4 MB/s eta 0:00:01\r\u001b[K     |████████████▏                   | 593 kB 5.4 MB/s eta 0:00:01\r\u001b[K     |████████████▎                   | 604 kB 5.4 MB/s eta 0:00:01\r\u001b[K     |████████████▌                   | 614 kB 5.4 MB/s eta 0:00:01\r\u001b[K     |████████████▊                   | 624 kB 5.4 MB/s eta 0:00:01\r\u001b[K     |█████████████                   | 634 kB 5.4 MB/s eta 0:00:01\r\u001b[K     |█████████████▏                  | 645 kB 5.4 MB/s eta 0:00:01\r\u001b[K     |█████████████▍                  | 655 kB 5.4 MB/s eta 0:00:01\r\u001b[K     |█████████████▋                  | 665 kB 5.4 MB/s eta 0:00:01\r\u001b[K     |█████████████▉                  | 675 kB 5.4 MB/s eta 0:00:01\r\u001b[K     |██████████████                  | 686 kB 5.4 MB/s eta 0:00:01\r\u001b[K     |██████████████▏                 | 696 kB 5.4 MB/s eta 0:00:01\r\u001b[K     |██████████████▍                 | 706 kB 5.4 MB/s eta 0:00:01\r\u001b[K     |██████████████▋                 | 716 kB 5.4 MB/s eta 0:00:01\r\u001b[K     |██████████████▉                 | 727 kB 5.4 MB/s eta 0:00:01\r\u001b[K     |███████████████                 | 737 kB 5.4 MB/s eta 0:00:01\r\u001b[K     |███████████████▎                | 747 kB 5.4 MB/s eta 0:00:01\r\u001b[K     |███████████████▌                | 757 kB 5.4 MB/s eta 0:00:01\r\u001b[K     |███████████████▊                | 768 kB 5.4 MB/s eta 0:00:01\r\u001b[K     |███████████████▉                | 778 kB 5.4 MB/s eta 0:00:01\r\u001b[K     |████████████████                | 788 kB 5.4 MB/s eta 0:00:01\r\u001b[K     |████████████████▎               | 798 kB 5.4 MB/s eta 0:00:01\r\u001b[K     |████████████████▌               | 808 kB 5.4 MB/s eta 0:00:01\r\u001b[K     |████████████████▊               | 819 kB 5.4 MB/s eta 0:00:01\r\u001b[K     |█████████████████               | 829 kB 5.4 MB/s eta 0:00:01\r\u001b[K     |█████████████████▏              | 839 kB 5.4 MB/s eta 0:00:01\r\u001b[K     |█████████████████▍              | 849 kB 5.4 MB/s eta 0:00:01\r\u001b[K     |█████████████████▌              | 860 kB 5.4 MB/s eta 0:00:01\r\u001b[K     |█████████████████▊              | 870 kB 5.4 MB/s eta 0:00:01\r\u001b[K     |██████████████████              | 880 kB 5.4 MB/s eta 0:00:01\r\u001b[K     |██████████████████▏             | 890 kB 5.4 MB/s eta 0:00:01\r\u001b[K     |██████████████████▍             | 901 kB 5.4 MB/s eta 0:00:01\r\u001b[K     |██████████████████▋             | 911 kB 5.4 MB/s eta 0:00:01\r\u001b[K     |██████████████████▉             | 921 kB 5.4 MB/s eta 0:00:01\r\u001b[K     |███████████████████             | 931 kB 5.4 MB/s eta 0:00:01\r\u001b[K     |███████████████████▏            | 942 kB 5.4 MB/s eta 0:00:01\r\u001b[K     |███████████████████▍            | 952 kB 5.4 MB/s eta 0:00:01\r\u001b[K     |███████████████████▋            | 962 kB 5.4 MB/s eta 0:00:01\r\u001b[K     |███████████████████▉            | 972 kB 5.4 MB/s eta 0:00:01\r\u001b[K     |████████████████████            | 983 kB 5.4 MB/s eta 0:00:01\r\u001b[K     |████████████████████▎           | 993 kB 5.4 MB/s eta 0:00:01\r\u001b[K     |████████████████████▌           | 1.0 MB 5.4 MB/s eta 0:00:01\r\u001b[K     |████████████████████▊           | 1.0 MB 5.4 MB/s eta 0:00:01\r\u001b[K     |█████████████████████           | 1.0 MB 5.4 MB/s eta 0:00:01\r\u001b[K     |█████████████████████           | 1.0 MB 5.4 MB/s eta 0:00:01\r\u001b[K     |█████████████████████▎          | 1.0 MB 5.4 MB/s eta 0:00:01\r\u001b[K     |█████████████████████▌          | 1.1 MB 5.4 MB/s eta 0:00:01\r\u001b[K     |█████████████████████▊          | 1.1 MB 5.4 MB/s eta 0:00:01\r\u001b[K     |██████████████████████          | 1.1 MB 5.4 MB/s eta 0:00:01\r\u001b[K     |██████████████████████▏         | 1.1 MB 5.4 MB/s eta 0:00:01\r\u001b[K     |██████████████████████▍         | 1.1 MB 5.4 MB/s eta 0:00:01\r\u001b[K     |██████████████████████▋         | 1.1 MB 5.4 MB/s eta 0:00:01\r\u001b[K     |██████████████████████▊         | 1.1 MB 5.4 MB/s eta 0:00:01\r\u001b[K     |███████████████████████         | 1.1 MB 5.4 MB/s eta 0:00:01\r\u001b[K     |███████████████████████▏        | 1.1 MB 5.4 MB/s eta 0:00:01\r\u001b[K     |███████████████████████▍        | 1.1 MB 5.4 MB/s eta 0:00:01\r\u001b[K     |███████████████████████▋        | 1.2 MB 5.4 MB/s eta 0:00:01\r\u001b[K     |███████████████████████▉        | 1.2 MB 5.4 MB/s eta 0:00:01\r\u001b[K     |████████████████████████        | 1.2 MB 5.4 MB/s eta 0:00:01\r\u001b[K     |████████████████████████▎       | 1.2 MB 5.4 MB/s eta 0:00:01\r\u001b[K     |████████████████████████▍       | 1.2 MB 5.4 MB/s eta 0:00:01\r\u001b[K     |████████████████████████▋       | 1.2 MB 5.4 MB/s eta 0:00:01\r\u001b[K     |████████████████████████▉       | 1.2 MB 5.4 MB/s eta 0:00:01\r\u001b[K     |█████████████████████████       | 1.2 MB 5.4 MB/s eta 0:00:01\r\u001b[K     |█████████████████████████▎      | 1.2 MB 5.4 MB/s eta 0:00:01\r\u001b[K     |█████████████████████████▌      | 1.2 MB 5.4 MB/s eta 0:00:01\r\u001b[K     |█████████████████████████▊      | 1.3 MB 5.4 MB/s eta 0:00:01\r\u001b[K     |██████████████████████████      | 1.3 MB 5.4 MB/s eta 0:00:01\r\u001b[K     |██████████████████████████▏     | 1.3 MB 5.4 MB/s eta 0:00:01\r\u001b[K     |██████████████████████████▎     | 1.3 MB 5.4 MB/s eta 0:00:01\r\u001b[K     |██████████████████████████▌     | 1.3 MB 5.4 MB/s eta 0:00:01\r\u001b[K     |██████████████████████████▊     | 1.3 MB 5.4 MB/s eta 0:00:01\r\u001b[K     |███████████████████████████     | 1.3 MB 5.4 MB/s eta 0:00:01\r\u001b[K     |███████████████████████████▏    | 1.3 MB 5.4 MB/s eta 0:00:01\r\u001b[K     |███████████████████████████▍    | 1.3 MB 5.4 MB/s eta 0:00:01\r\u001b[K     |███████████████████████████▋    | 1.4 MB 5.4 MB/s eta 0:00:01\r\u001b[K     |███████████████████████████▉    | 1.4 MB 5.4 MB/s eta 0:00:01\r\u001b[K     |████████████████████████████    | 1.4 MB 5.4 MB/s eta 0:00:01\r\u001b[K     |████████████████████████████▏   | 1.4 MB 5.4 MB/s eta 0:00:01\r\u001b[K     |████████████████████████████▍   | 1.4 MB 5.4 MB/s eta 0:00:01\r\u001b[K     |████████████████████████████▋   | 1.4 MB 5.4 MB/s eta 0:00:01\r\u001b[K     |████████████████████████████▉   | 1.4 MB 5.4 MB/s eta 0:00:01\r\u001b[K     |█████████████████████████████   | 1.4 MB 5.4 MB/s eta 0:00:01\r\u001b[K     |█████████████████████████████▎  | 1.4 MB 5.4 MB/s eta 0:00:01\r\u001b[K     |█████████████████████████████▌  | 1.4 MB 5.4 MB/s eta 0:00:01\r\u001b[K     |█████████████████████████████▋  | 1.5 MB 5.4 MB/s eta 0:00:01\r\u001b[K     |█████████████████████████████▉  | 1.5 MB 5.4 MB/s eta 0:00:01\r\u001b[K     |██████████████████████████████  | 1.5 MB 5.4 MB/s eta 0:00:01\r\u001b[K     |██████████████████████████████▎ | 1.5 MB 5.4 MB/s eta 0:00:01\r\u001b[K     |██████████████████████████████▌ | 1.5 MB 5.4 MB/s eta 0:00:01\r\u001b[K     |██████████████████████████████▊ | 1.5 MB 5.4 MB/s eta 0:00:01\r\u001b[K     |███████████████████████████████ | 1.5 MB 5.4 MB/s eta 0:00:01\r\u001b[K     |███████████████████████████████▏| 1.5 MB 5.4 MB/s eta 0:00:01\r\u001b[K     |███████████████████████████████▍| 1.5 MB 5.4 MB/s eta 0:00:01\r\u001b[K     |███████████████████████████████▌| 1.5 MB 5.4 MB/s eta 0:00:01\r\u001b[K     |███████████████████████████████▊| 1.6 MB 5.4 MB/s eta 0:00:01\r\u001b[K     |████████████████████████████████| 1.6 MB 5.4 MB/s eta 0:00:01\r\u001b[K     |████████████████████████████████| 1.6 MB 5.4 MB/s \n",
            "\u001b[?25hRequirement already satisfied: sympy in /usr/local/lib/python3.7/dist-packages (from coremltools) (1.7.1)\n",
            "Requirement already satisfied: tqdm in /usr/local/lib/python3.7/dist-packages (from coremltools) (4.64.0)\n",
            "Requirement already satisfied: numpy>=1.14.5 in /usr/local/lib/python3.7/dist-packages (from coremltools) (1.21.6)\n",
            "Requirement already satisfied: packaging in /usr/local/lib/python3.7/dist-packages (from coremltools) (21.3)\n",
            "Requirement already satisfied: protobuf>=3.1.0 in /usr/local/lib/python3.7/dist-packages (from coremltools) (3.17.3)\n",
            "Requirement already satisfied: six>=1.9 in /usr/local/lib/python3.7/dist-packages (from protobuf>=3.1.0->coremltools) (1.15.0)\n",
            "Requirement already satisfied: pyparsing!=3.0.5,>=2.0.2 in /usr/local/lib/python3.7/dist-packages (from packaging->coremltools) (3.0.8)\n",
            "Requirement already satisfied: mpmath>=0.19 in /usr/local/lib/python3.7/dist-packages (from sympy->coremltools) (1.2.1)\n",
            "Installing collected packages: coremltools\n",
            "Successfully installed coremltools-5.2.0\n"
          ]
        }
      ]
    },
    {
      "cell_type": "code",
      "source": [
        "import coremltools\n",
        "coreml_model = coremltools.converters.convert('./dicswunary.h5')\n",
        "coreml_model.save('./dicswunary.mlmodel')"
      ],
      "metadata": {
        "id": "IcGl28g5zvpo",
        "outputId": "f7022bda-b2fd-4741-9290-73b8efd49a8f",
        "colab": {
          "base_uri": "https://localhost:8080/"
        }
      },
      "execution_count": 155,
      "outputs": [
        {
          "output_type": "stream",
          "name": "stderr",
          "text": [
            "Running TensorFlow Graph Passes: 100%|██████████| 6/6 [00:00<00:00, 10.18 passes/s]\n",
            "Converting Frontend ==> MIL Ops: 100%|██████████| 26/26 [00:00<00:00, 272.66 ops/s]\n",
            "Running MIL Common passes: 100%|██████████| 34/34 [00:00<00:00, 565.59 passes/s]\n",
            "Running MIL Clean up passes: 100%|██████████| 9/9 [00:00<00:00, 166.51 passes/s]\n",
            "Translating MIL ==> NeuralNetwork Ops: 100%|██████████| 45/45 [00:00<00:00, 109.15 ops/s]\n"
          ]
        }
      ]
    }
  ]
}